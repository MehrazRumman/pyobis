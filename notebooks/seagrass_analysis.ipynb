{
  "nbformat": 4,
  "nbformat_minor": 0,
  "metadata": {
    "colab": {
      "provenance": []
    },
    "kernelspec": {
      "name": "python3",
      "display_name": "Python 3"
    },
    "language_info": {
      "name": "python"
    }
  },
  "cells": [
    {
      "cell_type": "markdown",
      "source": [
        "# Seagrass Analysis"
      ],
      "metadata": {
        "id": "8s7Dy9dPN4ei"
      }
    },
    {
      "cell_type": "markdown",
      "source": [
        "We want to understand how seagrass communities in the Florida Keys National Marine Sanctuary change over time, and what environmental factors may drive those changes. We also want to detect any abnormal changes or events that might indicate ecological issues (e.g., die-offs, blooms)"
      ],
      "metadata": {
        "id": "1F5W9L6oN1yO"
      }
    },
    {
      "cell_type": "markdown",
      "source": [
        "#Data collection\n"
      ],
      "metadata": {
        "id": "Y1njpnmqOSjS"
      }
    },
    {
      "cell_type": "code",
      "source": [
        "!pip install pyobis pygbif pandas\n"
      ],
      "metadata": {
        "colab": {
          "base_uri": "https://localhost:8080/"
        },
        "id": "O3TEjpvpQQ3g",
        "outputId": "ed6d0cb9-03f3-43a5-dd88-950fe638fd77"
      },
      "execution_count": 1,
      "outputs": [
        {
          "output_type": "stream",
          "name": "stdout",
          "text": [
            "Collecting pyobis\n",
            "  Downloading pyobis-1.4.1-py3-none-any.whl.metadata (5.5 kB)\n",
            "Collecting pygbif\n",
            "  Downloading pygbif-0.6.5-py3-none-any.whl.metadata (12 kB)\n",
            "Requirement already satisfied: pandas in /usr/local/lib/python3.11/dist-packages (2.2.2)\n",
            "Requirement already satisfied: requests>2.7 in /usr/local/lib/python3.11/dist-packages (from pyobis) (2.32.3)\n",
            "Collecting requests-cache (from pygbif)\n",
            "  Downloading requests_cache-1.2.1-py3-none-any.whl.metadata (9.9 kB)\n",
            "Collecting geojson_rewind (from pygbif)\n",
            "  Downloading geojson_rewind-1.1.0-py3-none-any.whl.metadata (4.5 kB)\n",
            "Collecting geomet (from pygbif)\n",
            "  Downloading geomet-1.1.0-py3-none-any.whl.metadata (11 kB)\n",
            "Collecting appdirs>=1.4.3 (from pygbif)\n",
            "  Downloading appdirs-1.4.4-py2.py3-none-any.whl.metadata (9.0 kB)\n",
            "Requirement already satisfied: matplotlib in /usr/local/lib/python3.11/dist-packages (from pygbif) (3.10.0)\n",
            "Requirement already satisfied: numpy>=1.23.2 in /usr/local/lib/python3.11/dist-packages (from pandas) (2.0.2)\n",
            "Requirement already satisfied: python-dateutil>=2.8.2 in /usr/local/lib/python3.11/dist-packages (from pandas) (2.9.0.post0)\n",
            "Requirement already satisfied: pytz>=2020.1 in /usr/local/lib/python3.11/dist-packages (from pandas) (2025.2)\n",
            "Requirement already satisfied: tzdata>=2022.7 in /usr/local/lib/python3.11/dist-packages (from pandas) (2025.2)\n",
            "Requirement already satisfied: six>=1.5 in /usr/local/lib/python3.11/dist-packages (from python-dateutil>=2.8.2->pandas) (1.17.0)\n",
            "Requirement already satisfied: charset-normalizer<4,>=2 in /usr/local/lib/python3.11/dist-packages (from requests>2.7->pyobis) (3.4.2)\n",
            "Requirement already satisfied: idna<4,>=2.5 in /usr/local/lib/python3.11/dist-packages (from requests>2.7->pyobis) (3.10)\n",
            "Requirement already satisfied: urllib3<3,>=1.21.1 in /usr/local/lib/python3.11/dist-packages (from requests>2.7->pyobis) (2.4.0)\n",
            "Requirement already satisfied: certifi>=2017.4.17 in /usr/local/lib/python3.11/dist-packages (from requests>2.7->pyobis) (2025.6.15)\n",
            "Requirement already satisfied: click in /usr/local/lib/python3.11/dist-packages (from geomet->pygbif) (8.2.1)\n",
            "Requirement already satisfied: contourpy>=1.0.1 in /usr/local/lib/python3.11/dist-packages (from matplotlib->pygbif) (1.3.2)\n",
            "Requirement already satisfied: cycler>=0.10 in /usr/local/lib/python3.11/dist-packages (from matplotlib->pygbif) (0.12.1)\n",
            "Requirement already satisfied: fonttools>=4.22.0 in /usr/local/lib/python3.11/dist-packages (from matplotlib->pygbif) (4.58.4)\n",
            "Requirement already satisfied: kiwisolver>=1.3.1 in /usr/local/lib/python3.11/dist-packages (from matplotlib->pygbif) (1.4.8)\n",
            "Requirement already satisfied: packaging>=20.0 in /usr/local/lib/python3.11/dist-packages (from matplotlib->pygbif) (24.2)\n",
            "Requirement already satisfied: pillow>=8 in /usr/local/lib/python3.11/dist-packages (from matplotlib->pygbif) (11.2.1)\n",
            "Requirement already satisfied: pyparsing>=2.3.1 in /usr/local/lib/python3.11/dist-packages (from matplotlib->pygbif) (3.2.3)\n",
            "Requirement already satisfied: attrs>=21.2 in /usr/local/lib/python3.11/dist-packages (from requests-cache->pygbif) (25.3.0)\n",
            "Collecting cattrs>=22.2 (from requests-cache->pygbif)\n",
            "  Downloading cattrs-25.1.1-py3-none-any.whl.metadata (8.4 kB)\n",
            "Requirement already satisfied: platformdirs>=2.5 in /usr/local/lib/python3.11/dist-packages (from requests-cache->pygbif) (4.3.8)\n",
            "Collecting url-normalize>=1.4 (from requests-cache->pygbif)\n",
            "  Downloading url_normalize-2.2.1-py3-none-any.whl.metadata (5.6 kB)\n",
            "Requirement already satisfied: typing-extensions>=4.12.2 in /usr/local/lib/python3.11/dist-packages (from cattrs>=22.2->requests-cache->pygbif) (4.14.0)\n",
            "Downloading pyobis-1.4.1-py3-none-any.whl (23 kB)\n",
            "Downloading pygbif-0.6.5-py3-none-any.whl (70 kB)\n",
            "\u001b[2K   \u001b[90m━━━━━━━━━━━━━━━━━━━━━━━━━━━━━━━━━━━━━━━━\u001b[0m \u001b[32m70.2/70.2 kB\u001b[0m \u001b[31m5.8 MB/s\u001b[0m eta \u001b[36m0:00:00\u001b[0m\n",
            "\u001b[?25hDownloading appdirs-1.4.4-py2.py3-none-any.whl (9.6 kB)\n",
            "Downloading geojson_rewind-1.1.0-py3-none-any.whl (5.2 kB)\n",
            "Downloading geomet-1.1.0-py3-none-any.whl (31 kB)\n",
            "Downloading requests_cache-1.2.1-py3-none-any.whl (61 kB)\n",
            "\u001b[2K   \u001b[90m━━━━━━━━━━━━━━━━━━━━━━━━━━━━━━━━━━━━━━━━\u001b[0m \u001b[32m61.4/61.4 kB\u001b[0m \u001b[31m4.7 MB/s\u001b[0m eta \u001b[36m0:00:00\u001b[0m\n",
            "\u001b[?25hDownloading cattrs-25.1.1-py3-none-any.whl (69 kB)\n",
            "\u001b[2K   \u001b[90m━━━━━━━━━━━━━━━━━━━━━━━━━━━━━━━━━━━━━━━━\u001b[0m \u001b[32m69.4/69.4 kB\u001b[0m \u001b[31m5.3 MB/s\u001b[0m eta \u001b[36m0:00:00\u001b[0m\n",
            "\u001b[?25hDownloading url_normalize-2.2.1-py3-none-any.whl (14 kB)\n",
            "Installing collected packages: appdirs, url-normalize, geomet, geojson_rewind, cattrs, requests-cache, pyobis, pygbif\n",
            "Successfully installed appdirs-1.4.4 cattrs-25.1.1 geojson_rewind-1.1.0 geomet-1.1.0 pygbif-0.6.5 pyobis-1.4.1 requests-cache-1.2.1 url-normalize-2.2.1\n"
          ]
        }
      ]
    },
    {
      "cell_type": "code",
      "source": [
        "from google.colab import drive\n",
        "drive.mount('/content/drive')\n",
        "\n",
        "\n",
        "import os\n",
        "project_dir = '/content/drive/MyDrive/GSoC_SDM_Project'\n",
        "if not os.path.exists(project_dir):\n",
        "    os.makedirs(project_dir)"
      ],
      "metadata": {
        "colab": {
          "base_uri": "https://localhost:8080/"
        },
        "id": "Vara-wZiX5Aw",
        "outputId": "e5c2906c-60e7-4a01-9ccc-5f38e8f96b42"
      },
      "execution_count": 2,
      "outputs": [
        {
          "output_type": "stream",
          "name": "stdout",
          "text": [
            "Mounted at /content/drive\n"
          ]
        }
      ]
    },
    {
      "cell_type": "code",
      "source": [
        "from pyobis import occurrences as obis_occurrences\n",
        "from pyobis import taxa\n",
        "from pygbif import occurrences as gbif_occurrences, species as gbif_species\n",
        "import pandas as pd\n",
        "import time\n"
      ],
      "metadata": {
        "id": "1PBX8MLVTBtj"
      },
      "execution_count": 3,
      "outputs": []
    },
    {
      "cell_type": "code",
      "source": [
        "seagrass_names = [\n",
        "    \"Halodule wrightii\",\n",
        "    \"Halophila engelmannii\",\n",
        "    \"Thalassia testudinum\",\n",
        "    \"Halophila decipiens\",\n",
        "    \"Syringodium filiforme\"\n",
        "]"
      ],
      "metadata": {
        "id": "bmsN9-80Zlb5"
      },
      "execution_count": 4,
      "outputs": []
    },
    {
      "cell_type": "code",
      "source": [
        "def get_obis_occurrences_by_taxaids(taxa_ids, area_bbox=None, limit=10000):\n",
        "    \"\"\"\n",
        "    Download occurrence data from OBIS by taxon ID list.\n",
        "    Returns a dataframe with lat, lon, time columns.\n",
        "    \"\"\"\n",
        "    frames = []\n",
        "    for tid in taxa_ids:\n",
        "\n",
        "        query = obis_occurrences.search(taxonid=tid, size=limit)\n",
        "        if area_bbox:\n",
        "            bbox = area_bbox\n",
        "            geom = f\"POLYGON(({bbox[0]} {bbox[1]},{bbox[2]} {bbox[1]},{bbox[2]} {bbox[3]},{bbox[0]} {bbox[3]},{bbox[0]} {bbox[1]}))\"\n",
        "            query = obis_occurrences.search(taxonid=tid, size=limit, geometry=geom)\n",
        "        query.execute()\n",
        "\n",
        "        try:\n",
        "            df = query.to_pandas()\n",
        "        except Exception:\n",
        "            continue\n",
        "\n",
        "        if set(['decimalLongitude', 'decimalLatitude', 'eventDate']).issubset(df.columns):\n",
        "            frames.append(df[['decimalLongitude', 'decimalLatitude', 'eventDate']].rename(\n",
        "                columns={'decimalLongitude': 'lon', 'decimalLatitude': 'lat', 'eventDate': 'time'}\n",
        "            ))\n",
        "    if frames:\n",
        "        return pd.concat(frames, ignore_index=True)\n",
        "    return pd.DataFrame(columns=['lon', 'lat', 'time'])"
      ],
      "metadata": {
        "id": "F6zbIB9IUcDv"
      },
      "execution_count": 5,
      "outputs": []
    },
    {
      "cell_type": "markdown",
      "source": [
        "Pulling GBIF Data"
      ],
      "metadata": {
        "id": "RgEl0H-7T3AA"
      }
    },
    {
      "cell_type": "code",
      "source": [
        "def get_gbif_data(scientific_names, area_bbox=None, limit_per_species=1000):\n",
        "    \"\"\"\n",
        "    scientific_names: list of taxon scientific names\n",
        "    area_bbox: [min_lon, min_lat, max_lon, max_lat]\n",
        "    Returns combined pandas DataFrame with columns lat, lon, time\n",
        "    \"\"\"\n",
        "    frames = []\n",
        "    for name in scientific_names:\n",
        "        params = {\n",
        "            'scientificName': name,\n",
        "            'limit': limit_per_species,\n",
        "            'hasCoordinate': True,\n",
        "        }\n",
        "        if area_bbox:\n",
        "            params['decimalLatitude'] = f\"{area_bbox[1]},{area_bbox[3]}\"\n",
        "            params['decimalLongitude'] = f\"{area_bbox[0]},{area_bbox[2]}\"\n",
        "        results = gbif_occurrences.search(**params)\n",
        "        data = results['results']\n",
        "        if data:\n",
        "            df = pd.DataFrame(data)\n",
        "            if set(['decimalLongitude', 'decimalLatitude', 'eventDate']).issubset(df.columns):\n",
        "                frames.append(df[['decimalLongitude', 'decimalLatitude', 'eventDate']].rename(\n",
        "                    columns={'decimalLongitude':'lon', 'decimalLatitude':'lat', 'eventDate':'time'}\n",
        "                ))\n",
        "        time.sleep(1)\n",
        "    if frames:\n",
        "        return pd.concat(frames, ignore_index=True)\n",
        "    return pd.DataFrame(columns=['lon', 'lat', 'time'])\n"
      ],
      "metadata": {
        "id": "kNEz0Zd2T2MC"
      },
      "execution_count": 6,
      "outputs": []
    },
    {
      "cell_type": "code",
      "source": [
        "obis_taxa_ids = [143769, 143770, 143751, 143768, 234030]\n",
        "florida_keys_bbox = [-82, 24, -80, 25]\n"
      ],
      "metadata": {
        "id": "0O-7NGi6WA7z"
      },
      "execution_count": 7,
      "outputs": []
    },
    {
      "cell_type": "code",
      "source": [
        "\n",
        "gbif_df = get_gbif_data(seagrass_names, area_bbox=florida_keys_bbox)\n",
        "gbif_df.shape\n"
      ],
      "metadata": {
        "colab": {
          "base_uri": "https://localhost:8080/"
        },
        "id": "_6i_NhwdT8SJ",
        "outputId": "bef68531-3598-4cd7-8297-510decafae23"
      },
      "execution_count": 8,
      "outputs": [
        {
          "output_type": "execute_result",
          "data": {
            "text/plain": [
              "(1500, 3)"
            ]
          },
          "metadata": {},
          "execution_count": 8
        }
      ]
    },
    {
      "cell_type": "code",
      "source": [
        "obis_df = get_obis_occurrences_by_taxaids(obis_taxa_ids, area_bbox=florida_keys_bbox)\n",
        "obis_df.shape"
      ],
      "metadata": {
        "colab": {
          "base_uri": "https://localhost:8080/"
        },
        "id": "yhgqd3cTUQYY",
        "outputId": "245df49d-d33f-46ff-90b5-ee00484af722"
      },
      "execution_count": 9,
      "outputs": [
        {
          "output_type": "execute_result",
          "data": {
            "text/plain": [
              "(1566, 3)"
            ]
          },
          "metadata": {},
          "execution_count": 9
        }
      ]
    },
    {
      "cell_type": "markdown",
      "source": [
        "Combining OBIS and GBIF data"
      ],
      "metadata": {
        "id": "6mcWXtH_g41z"
      }
    },
    {
      "cell_type": "code",
      "source": [
        "combined_df = pd.concat([obis_df, gbif_df], ignore_index=True)\n",
        "combined_df = combined_df.drop_duplicates().dropna(subset=['lat', 'lon', 'time']).reset_index(drop=True)\n",
        "print(\"Combined OBIS + GBIF data:\", combined_df.shape)\n",
        "combined_df.head()"
      ],
      "metadata": {
        "colab": {
          "base_uri": "https://localhost:8080/",
          "height": 224
        },
        "id": "gWne7PwnUtRs",
        "outputId": "9d2efa13-8255-45e7-c651-6ee1cfccefe5"
      },
      "execution_count": 10,
      "outputs": [
        {
          "output_type": "stream",
          "name": "stdout",
          "text": [
            "Combined OBIS + GBIF data: (353, 3)\n"
          ]
        },
        {
          "output_type": "execute_result",
          "data": {
            "text/plain": [
              "         lon        lat              time\n",
              "0 -80.649250  24.996280  2006-10-05T12:50\n",
              "1 -80.870448  24.992606           2021-05\n",
              "2 -80.822806  24.964519           2021-05\n",
              "3 -80.500000  24.500000              1998\n",
              "4 -80.835571  24.966715           2021-05"
            ],
            "text/html": [
              "\n",
              "  <div id=\"df-d13b8220-32ef-48f0-baba-f45b27a66faa\" class=\"colab-df-container\">\n",
              "    <div>\n",
              "<style scoped>\n",
              "    .dataframe tbody tr th:only-of-type {\n",
              "        vertical-align: middle;\n",
              "    }\n",
              "\n",
              "    .dataframe tbody tr th {\n",
              "        vertical-align: top;\n",
              "    }\n",
              "\n",
              "    .dataframe thead th {\n",
              "        text-align: right;\n",
              "    }\n",
              "</style>\n",
              "<table border=\"1\" class=\"dataframe\">\n",
              "  <thead>\n",
              "    <tr style=\"text-align: right;\">\n",
              "      <th></th>\n",
              "      <th>lon</th>\n",
              "      <th>lat</th>\n",
              "      <th>time</th>\n",
              "    </tr>\n",
              "  </thead>\n",
              "  <tbody>\n",
              "    <tr>\n",
              "      <th>0</th>\n",
              "      <td>-80.649250</td>\n",
              "      <td>24.996280</td>\n",
              "      <td>2006-10-05T12:50</td>\n",
              "    </tr>\n",
              "    <tr>\n",
              "      <th>1</th>\n",
              "      <td>-80.870448</td>\n",
              "      <td>24.992606</td>\n",
              "      <td>2021-05</td>\n",
              "    </tr>\n",
              "    <tr>\n",
              "      <th>2</th>\n",
              "      <td>-80.822806</td>\n",
              "      <td>24.964519</td>\n",
              "      <td>2021-05</td>\n",
              "    </tr>\n",
              "    <tr>\n",
              "      <th>3</th>\n",
              "      <td>-80.500000</td>\n",
              "      <td>24.500000</td>\n",
              "      <td>1998</td>\n",
              "    </tr>\n",
              "    <tr>\n",
              "      <th>4</th>\n",
              "      <td>-80.835571</td>\n",
              "      <td>24.966715</td>\n",
              "      <td>2021-05</td>\n",
              "    </tr>\n",
              "  </tbody>\n",
              "</table>\n",
              "</div>\n",
              "    <div class=\"colab-df-buttons\">\n",
              "\n",
              "  <div class=\"colab-df-container\">\n",
              "    <button class=\"colab-df-convert\" onclick=\"convertToInteractive('df-d13b8220-32ef-48f0-baba-f45b27a66faa')\"\n",
              "            title=\"Convert this dataframe to an interactive table.\"\n",
              "            style=\"display:none;\">\n",
              "\n",
              "  <svg xmlns=\"http://www.w3.org/2000/svg\" height=\"24px\" viewBox=\"0 -960 960 960\">\n",
              "    <path d=\"M120-120v-720h720v720H120Zm60-500h600v-160H180v160Zm220 220h160v-160H400v160Zm0 220h160v-160H400v160ZM180-400h160v-160H180v160Zm440 0h160v-160H620v160ZM180-180h160v-160H180v160Zm440 0h160v-160H620v160Z\"/>\n",
              "  </svg>\n",
              "    </button>\n",
              "\n",
              "  <style>\n",
              "    .colab-df-container {\n",
              "      display:flex;\n",
              "      gap: 12px;\n",
              "    }\n",
              "\n",
              "    .colab-df-convert {\n",
              "      background-color: #E8F0FE;\n",
              "      border: none;\n",
              "      border-radius: 50%;\n",
              "      cursor: pointer;\n",
              "      display: none;\n",
              "      fill: #1967D2;\n",
              "      height: 32px;\n",
              "      padding: 0 0 0 0;\n",
              "      width: 32px;\n",
              "    }\n",
              "\n",
              "    .colab-df-convert:hover {\n",
              "      background-color: #E2EBFA;\n",
              "      box-shadow: 0px 1px 2px rgba(60, 64, 67, 0.3), 0px 1px 3px 1px rgba(60, 64, 67, 0.15);\n",
              "      fill: #174EA6;\n",
              "    }\n",
              "\n",
              "    .colab-df-buttons div {\n",
              "      margin-bottom: 4px;\n",
              "    }\n",
              "\n",
              "    [theme=dark] .colab-df-convert {\n",
              "      background-color: #3B4455;\n",
              "      fill: #D2E3FC;\n",
              "    }\n",
              "\n",
              "    [theme=dark] .colab-df-convert:hover {\n",
              "      background-color: #434B5C;\n",
              "      box-shadow: 0px 1px 3px 1px rgba(0, 0, 0, 0.15);\n",
              "      filter: drop-shadow(0px 1px 2px rgba(0, 0, 0, 0.3));\n",
              "      fill: #FFFFFF;\n",
              "    }\n",
              "  </style>\n",
              "\n",
              "    <script>\n",
              "      const buttonEl =\n",
              "        document.querySelector('#df-d13b8220-32ef-48f0-baba-f45b27a66faa button.colab-df-convert');\n",
              "      buttonEl.style.display =\n",
              "        google.colab.kernel.accessAllowed ? 'block' : 'none';\n",
              "\n",
              "      async function convertToInteractive(key) {\n",
              "        const element = document.querySelector('#df-d13b8220-32ef-48f0-baba-f45b27a66faa');\n",
              "        const dataTable =\n",
              "          await google.colab.kernel.invokeFunction('convertToInteractive',\n",
              "                                                    [key], {});\n",
              "        if (!dataTable) return;\n",
              "\n",
              "        const docLinkHtml = 'Like what you see? Visit the ' +\n",
              "          '<a target=\"_blank\" href=https://colab.research.google.com/notebooks/data_table.ipynb>data table notebook</a>'\n",
              "          + ' to learn more about interactive tables.';\n",
              "        element.innerHTML = '';\n",
              "        dataTable['output_type'] = 'display_data';\n",
              "        await google.colab.output.renderOutput(dataTable, element);\n",
              "        const docLink = document.createElement('div');\n",
              "        docLink.innerHTML = docLinkHtml;\n",
              "        element.appendChild(docLink);\n",
              "      }\n",
              "    </script>\n",
              "  </div>\n",
              "\n",
              "\n",
              "    <div id=\"df-2f4015bb-5fb9-4184-93df-1e93af1e54d8\">\n",
              "      <button class=\"colab-df-quickchart\" onclick=\"quickchart('df-2f4015bb-5fb9-4184-93df-1e93af1e54d8')\"\n",
              "                title=\"Suggest charts\"\n",
              "                style=\"display:none;\">\n",
              "\n",
              "<svg xmlns=\"http://www.w3.org/2000/svg\" height=\"24px\"viewBox=\"0 0 24 24\"\n",
              "     width=\"24px\">\n",
              "    <g>\n",
              "        <path d=\"M19 3H5c-1.1 0-2 .9-2 2v14c0 1.1.9 2 2 2h14c1.1 0 2-.9 2-2V5c0-1.1-.9-2-2-2zM9 17H7v-7h2v7zm4 0h-2V7h2v10zm4 0h-2v-4h2v4z\"/>\n",
              "    </g>\n",
              "</svg>\n",
              "      </button>\n",
              "\n",
              "<style>\n",
              "  .colab-df-quickchart {\n",
              "      --bg-color: #E8F0FE;\n",
              "      --fill-color: #1967D2;\n",
              "      --hover-bg-color: #E2EBFA;\n",
              "      --hover-fill-color: #174EA6;\n",
              "      --disabled-fill-color: #AAA;\n",
              "      --disabled-bg-color: #DDD;\n",
              "  }\n",
              "\n",
              "  [theme=dark] .colab-df-quickchart {\n",
              "      --bg-color: #3B4455;\n",
              "      --fill-color: #D2E3FC;\n",
              "      --hover-bg-color: #434B5C;\n",
              "      --hover-fill-color: #FFFFFF;\n",
              "      --disabled-bg-color: #3B4455;\n",
              "      --disabled-fill-color: #666;\n",
              "  }\n",
              "\n",
              "  .colab-df-quickchart {\n",
              "    background-color: var(--bg-color);\n",
              "    border: none;\n",
              "    border-radius: 50%;\n",
              "    cursor: pointer;\n",
              "    display: none;\n",
              "    fill: var(--fill-color);\n",
              "    height: 32px;\n",
              "    padding: 0;\n",
              "    width: 32px;\n",
              "  }\n",
              "\n",
              "  .colab-df-quickchart:hover {\n",
              "    background-color: var(--hover-bg-color);\n",
              "    box-shadow: 0 1px 2px rgba(60, 64, 67, 0.3), 0 1px 3px 1px rgba(60, 64, 67, 0.15);\n",
              "    fill: var(--button-hover-fill-color);\n",
              "  }\n",
              "\n",
              "  .colab-df-quickchart-complete:disabled,\n",
              "  .colab-df-quickchart-complete:disabled:hover {\n",
              "    background-color: var(--disabled-bg-color);\n",
              "    fill: var(--disabled-fill-color);\n",
              "    box-shadow: none;\n",
              "  }\n",
              "\n",
              "  .colab-df-spinner {\n",
              "    border: 2px solid var(--fill-color);\n",
              "    border-color: transparent;\n",
              "    border-bottom-color: var(--fill-color);\n",
              "    animation:\n",
              "      spin 1s steps(1) infinite;\n",
              "  }\n",
              "\n",
              "  @keyframes spin {\n",
              "    0% {\n",
              "      border-color: transparent;\n",
              "      border-bottom-color: var(--fill-color);\n",
              "      border-left-color: var(--fill-color);\n",
              "    }\n",
              "    20% {\n",
              "      border-color: transparent;\n",
              "      border-left-color: var(--fill-color);\n",
              "      border-top-color: var(--fill-color);\n",
              "    }\n",
              "    30% {\n",
              "      border-color: transparent;\n",
              "      border-left-color: var(--fill-color);\n",
              "      border-top-color: var(--fill-color);\n",
              "      border-right-color: var(--fill-color);\n",
              "    }\n",
              "    40% {\n",
              "      border-color: transparent;\n",
              "      border-right-color: var(--fill-color);\n",
              "      border-top-color: var(--fill-color);\n",
              "    }\n",
              "    60% {\n",
              "      border-color: transparent;\n",
              "      border-right-color: var(--fill-color);\n",
              "    }\n",
              "    80% {\n",
              "      border-color: transparent;\n",
              "      border-right-color: var(--fill-color);\n",
              "      border-bottom-color: var(--fill-color);\n",
              "    }\n",
              "    90% {\n",
              "      border-color: transparent;\n",
              "      border-bottom-color: var(--fill-color);\n",
              "    }\n",
              "  }\n",
              "</style>\n",
              "\n",
              "      <script>\n",
              "        async function quickchart(key) {\n",
              "          const quickchartButtonEl =\n",
              "            document.querySelector('#' + key + ' button');\n",
              "          quickchartButtonEl.disabled = true;  // To prevent multiple clicks.\n",
              "          quickchartButtonEl.classList.add('colab-df-spinner');\n",
              "          try {\n",
              "            const charts = await google.colab.kernel.invokeFunction(\n",
              "                'suggestCharts', [key], {});\n",
              "          } catch (error) {\n",
              "            console.error('Error during call to suggestCharts:', error);\n",
              "          }\n",
              "          quickchartButtonEl.classList.remove('colab-df-spinner');\n",
              "          quickchartButtonEl.classList.add('colab-df-quickchart-complete');\n",
              "        }\n",
              "        (() => {\n",
              "          let quickchartButtonEl =\n",
              "            document.querySelector('#df-2f4015bb-5fb9-4184-93df-1e93af1e54d8 button');\n",
              "          quickchartButtonEl.style.display =\n",
              "            google.colab.kernel.accessAllowed ? 'block' : 'none';\n",
              "        })();\n",
              "      </script>\n",
              "    </div>\n",
              "\n",
              "    </div>\n",
              "  </div>\n"
            ],
            "application/vnd.google.colaboratory.intrinsic+json": {
              "type": "dataframe",
              "variable_name": "combined_df",
              "summary": "{\n  \"name\": \"combined_df\",\n  \"rows\": 353,\n  \"fields\": [\n    {\n      \"column\": \"lon\",\n      \"properties\": {\n        \"dtype\": \"number\",\n        \"std\": 0.23569152235003965,\n        \"min\": -81.869312,\n        \"max\": -80.5,\n        \"num_unique_values\": 342,\n        \"samples\": [\n          -80.829133,\n          -80.83222,\n          -80.89134534\n        ],\n        \"semantic_type\": \"\",\n        \"description\": \"\"\n      }\n    },\n    {\n      \"column\": \"lat\",\n      \"properties\": {\n        \"dtype\": \"number\",\n        \"std\": 0.11990515717730715,\n        \"min\": 24.5,\n        \"max\": 24.99983549,\n        \"num_unique_values\": 341,\n        \"samples\": [\n          24.658992,\n          24.95922,\n          24.97670815\n        ],\n        \"semantic_type\": \"\",\n        \"description\": \"\"\n      }\n    },\n    {\n      \"column\": \"time\",\n      \"properties\": {\n        \"dtype\": \"string\",\n        \"num_unique_values\": 210,\n        \"samples\": [\n          \"2006-10-06T13:05\",\n          \"2024-05-30T14:49\",\n          \"2006-05-03T11:52\"\n        ],\n        \"semantic_type\": \"\",\n        \"description\": \"\"\n      }\n    }\n  ]\n}"
            }
          },
          "metadata": {},
          "execution_count": 10
        }
      ]
    },
    {
      "cell_type": "markdown",
      "source": [
        "#Data Cleaning & Preprocessing"
      ],
      "metadata": {
        "id": "ojUwfRrya4TS"
      }
    },
    {
      "cell_type": "code",
      "source": [
        "import pandas as pd\n",
        "\n",
        "\n",
        "\n",
        "\n",
        "combined_df = combined_df.drop_duplicates()\n",
        "\n",
        "\n",
        "combined_df = combined_df.dropna(subset=['lat', 'lon', 'time'])\n",
        "\n",
        "\n",
        "combined_df['time'] = pd.to_datetime(combined_df['time'], errors='coerce')\n",
        "combined_df = combined_df.dropna(subset=['time'])\n",
        "combined_df['year'] = combined_df['time'].dt.year\n",
        "\n",
        "combined_df = combined_df[combined_df['year'] >= 2000]\n",
        "\n",
        "combined_df = combined_df.reset_index(drop=True)\n",
        "\n",
        "combined_df.shape\n",
        "combined_df.head()\n"
      ],
      "metadata": {
        "colab": {
          "base_uri": "https://localhost:8080/",
          "height": 206
        },
        "id": "xE9Gq51savF3",
        "outputId": "e817f4a0-3ee0-4b1e-e009-50f00aab7e68"
      },
      "execution_count": 11,
      "outputs": [
        {
          "output_type": "execute_result",
          "data": {
            "text/plain": [
              "         lon        lat                time  year\n",
              "0 -80.649250  24.996280 2006-10-05 12:50:00  2006\n",
              "1 -80.834916  24.979066 2006-10-06 12:01:00  2006\n",
              "2 -80.883433  24.998600 2005-04-19 12:46:00  2005\n",
              "3 -80.832800  24.968517 2006-05-03 12:21:00  2006\n",
              "4 -80.849766  24.987616 2005-04-19 13:20:00  2005"
            ],
            "text/html": [
              "\n",
              "  <div id=\"df-93d1e6cd-6a35-4182-96a4-fabb2a1369b0\" class=\"colab-df-container\">\n",
              "    <div>\n",
              "<style scoped>\n",
              "    .dataframe tbody tr th:only-of-type {\n",
              "        vertical-align: middle;\n",
              "    }\n",
              "\n",
              "    .dataframe tbody tr th {\n",
              "        vertical-align: top;\n",
              "    }\n",
              "\n",
              "    .dataframe thead th {\n",
              "        text-align: right;\n",
              "    }\n",
              "</style>\n",
              "<table border=\"1\" class=\"dataframe\">\n",
              "  <thead>\n",
              "    <tr style=\"text-align: right;\">\n",
              "      <th></th>\n",
              "      <th>lon</th>\n",
              "      <th>lat</th>\n",
              "      <th>time</th>\n",
              "      <th>year</th>\n",
              "    </tr>\n",
              "  </thead>\n",
              "  <tbody>\n",
              "    <tr>\n",
              "      <th>0</th>\n",
              "      <td>-80.649250</td>\n",
              "      <td>24.996280</td>\n",
              "      <td>2006-10-05 12:50:00</td>\n",
              "      <td>2006</td>\n",
              "    </tr>\n",
              "    <tr>\n",
              "      <th>1</th>\n",
              "      <td>-80.834916</td>\n",
              "      <td>24.979066</td>\n",
              "      <td>2006-10-06 12:01:00</td>\n",
              "      <td>2006</td>\n",
              "    </tr>\n",
              "    <tr>\n",
              "      <th>2</th>\n",
              "      <td>-80.883433</td>\n",
              "      <td>24.998600</td>\n",
              "      <td>2005-04-19 12:46:00</td>\n",
              "      <td>2005</td>\n",
              "    </tr>\n",
              "    <tr>\n",
              "      <th>3</th>\n",
              "      <td>-80.832800</td>\n",
              "      <td>24.968517</td>\n",
              "      <td>2006-05-03 12:21:00</td>\n",
              "      <td>2006</td>\n",
              "    </tr>\n",
              "    <tr>\n",
              "      <th>4</th>\n",
              "      <td>-80.849766</td>\n",
              "      <td>24.987616</td>\n",
              "      <td>2005-04-19 13:20:00</td>\n",
              "      <td>2005</td>\n",
              "    </tr>\n",
              "  </tbody>\n",
              "</table>\n",
              "</div>\n",
              "    <div class=\"colab-df-buttons\">\n",
              "\n",
              "  <div class=\"colab-df-container\">\n",
              "    <button class=\"colab-df-convert\" onclick=\"convertToInteractive('df-93d1e6cd-6a35-4182-96a4-fabb2a1369b0')\"\n",
              "            title=\"Convert this dataframe to an interactive table.\"\n",
              "            style=\"display:none;\">\n",
              "\n",
              "  <svg xmlns=\"http://www.w3.org/2000/svg\" height=\"24px\" viewBox=\"0 -960 960 960\">\n",
              "    <path d=\"M120-120v-720h720v720H120Zm60-500h600v-160H180v160Zm220 220h160v-160H400v160Zm0 220h160v-160H400v160ZM180-400h160v-160H180v160Zm440 0h160v-160H620v160ZM180-180h160v-160H180v160Zm440 0h160v-160H620v160Z\"/>\n",
              "  </svg>\n",
              "    </button>\n",
              "\n",
              "  <style>\n",
              "    .colab-df-container {\n",
              "      display:flex;\n",
              "      gap: 12px;\n",
              "    }\n",
              "\n",
              "    .colab-df-convert {\n",
              "      background-color: #E8F0FE;\n",
              "      border: none;\n",
              "      border-radius: 50%;\n",
              "      cursor: pointer;\n",
              "      display: none;\n",
              "      fill: #1967D2;\n",
              "      height: 32px;\n",
              "      padding: 0 0 0 0;\n",
              "      width: 32px;\n",
              "    }\n",
              "\n",
              "    .colab-df-convert:hover {\n",
              "      background-color: #E2EBFA;\n",
              "      box-shadow: 0px 1px 2px rgba(60, 64, 67, 0.3), 0px 1px 3px 1px rgba(60, 64, 67, 0.15);\n",
              "      fill: #174EA6;\n",
              "    }\n",
              "\n",
              "    .colab-df-buttons div {\n",
              "      margin-bottom: 4px;\n",
              "    }\n",
              "\n",
              "    [theme=dark] .colab-df-convert {\n",
              "      background-color: #3B4455;\n",
              "      fill: #D2E3FC;\n",
              "    }\n",
              "\n",
              "    [theme=dark] .colab-df-convert:hover {\n",
              "      background-color: #434B5C;\n",
              "      box-shadow: 0px 1px 3px 1px rgba(0, 0, 0, 0.15);\n",
              "      filter: drop-shadow(0px 1px 2px rgba(0, 0, 0, 0.3));\n",
              "      fill: #FFFFFF;\n",
              "    }\n",
              "  </style>\n",
              "\n",
              "    <script>\n",
              "      const buttonEl =\n",
              "        document.querySelector('#df-93d1e6cd-6a35-4182-96a4-fabb2a1369b0 button.colab-df-convert');\n",
              "      buttonEl.style.display =\n",
              "        google.colab.kernel.accessAllowed ? 'block' : 'none';\n",
              "\n",
              "      async function convertToInteractive(key) {\n",
              "        const element = document.querySelector('#df-93d1e6cd-6a35-4182-96a4-fabb2a1369b0');\n",
              "        const dataTable =\n",
              "          await google.colab.kernel.invokeFunction('convertToInteractive',\n",
              "                                                    [key], {});\n",
              "        if (!dataTable) return;\n",
              "\n",
              "        const docLinkHtml = 'Like what you see? Visit the ' +\n",
              "          '<a target=\"_blank\" href=https://colab.research.google.com/notebooks/data_table.ipynb>data table notebook</a>'\n",
              "          + ' to learn more about interactive tables.';\n",
              "        element.innerHTML = '';\n",
              "        dataTable['output_type'] = 'display_data';\n",
              "        await google.colab.output.renderOutput(dataTable, element);\n",
              "        const docLink = document.createElement('div');\n",
              "        docLink.innerHTML = docLinkHtml;\n",
              "        element.appendChild(docLink);\n",
              "      }\n",
              "    </script>\n",
              "  </div>\n",
              "\n",
              "\n",
              "    <div id=\"df-13d2a929-caab-4b1c-9350-0f8df97ad812\">\n",
              "      <button class=\"colab-df-quickchart\" onclick=\"quickchart('df-13d2a929-caab-4b1c-9350-0f8df97ad812')\"\n",
              "                title=\"Suggest charts\"\n",
              "                style=\"display:none;\">\n",
              "\n",
              "<svg xmlns=\"http://www.w3.org/2000/svg\" height=\"24px\"viewBox=\"0 0 24 24\"\n",
              "     width=\"24px\">\n",
              "    <g>\n",
              "        <path d=\"M19 3H5c-1.1 0-2 .9-2 2v14c0 1.1.9 2 2 2h14c1.1 0 2-.9 2-2V5c0-1.1-.9-2-2-2zM9 17H7v-7h2v7zm4 0h-2V7h2v10zm4 0h-2v-4h2v4z\"/>\n",
              "    </g>\n",
              "</svg>\n",
              "      </button>\n",
              "\n",
              "<style>\n",
              "  .colab-df-quickchart {\n",
              "      --bg-color: #E8F0FE;\n",
              "      --fill-color: #1967D2;\n",
              "      --hover-bg-color: #E2EBFA;\n",
              "      --hover-fill-color: #174EA6;\n",
              "      --disabled-fill-color: #AAA;\n",
              "      --disabled-bg-color: #DDD;\n",
              "  }\n",
              "\n",
              "  [theme=dark] .colab-df-quickchart {\n",
              "      --bg-color: #3B4455;\n",
              "      --fill-color: #D2E3FC;\n",
              "      --hover-bg-color: #434B5C;\n",
              "      --hover-fill-color: #FFFFFF;\n",
              "      --disabled-bg-color: #3B4455;\n",
              "      --disabled-fill-color: #666;\n",
              "  }\n",
              "\n",
              "  .colab-df-quickchart {\n",
              "    background-color: var(--bg-color);\n",
              "    border: none;\n",
              "    border-radius: 50%;\n",
              "    cursor: pointer;\n",
              "    display: none;\n",
              "    fill: var(--fill-color);\n",
              "    height: 32px;\n",
              "    padding: 0;\n",
              "    width: 32px;\n",
              "  }\n",
              "\n",
              "  .colab-df-quickchart:hover {\n",
              "    background-color: var(--hover-bg-color);\n",
              "    box-shadow: 0 1px 2px rgba(60, 64, 67, 0.3), 0 1px 3px 1px rgba(60, 64, 67, 0.15);\n",
              "    fill: var(--button-hover-fill-color);\n",
              "  }\n",
              "\n",
              "  .colab-df-quickchart-complete:disabled,\n",
              "  .colab-df-quickchart-complete:disabled:hover {\n",
              "    background-color: var(--disabled-bg-color);\n",
              "    fill: var(--disabled-fill-color);\n",
              "    box-shadow: none;\n",
              "  }\n",
              "\n",
              "  .colab-df-spinner {\n",
              "    border: 2px solid var(--fill-color);\n",
              "    border-color: transparent;\n",
              "    border-bottom-color: var(--fill-color);\n",
              "    animation:\n",
              "      spin 1s steps(1) infinite;\n",
              "  }\n",
              "\n",
              "  @keyframes spin {\n",
              "    0% {\n",
              "      border-color: transparent;\n",
              "      border-bottom-color: var(--fill-color);\n",
              "      border-left-color: var(--fill-color);\n",
              "    }\n",
              "    20% {\n",
              "      border-color: transparent;\n",
              "      border-left-color: var(--fill-color);\n",
              "      border-top-color: var(--fill-color);\n",
              "    }\n",
              "    30% {\n",
              "      border-color: transparent;\n",
              "      border-left-color: var(--fill-color);\n",
              "      border-top-color: var(--fill-color);\n",
              "      border-right-color: var(--fill-color);\n",
              "    }\n",
              "    40% {\n",
              "      border-color: transparent;\n",
              "      border-right-color: var(--fill-color);\n",
              "      border-top-color: var(--fill-color);\n",
              "    }\n",
              "    60% {\n",
              "      border-color: transparent;\n",
              "      border-right-color: var(--fill-color);\n",
              "    }\n",
              "    80% {\n",
              "      border-color: transparent;\n",
              "      border-right-color: var(--fill-color);\n",
              "      border-bottom-color: var(--fill-color);\n",
              "    }\n",
              "    90% {\n",
              "      border-color: transparent;\n",
              "      border-bottom-color: var(--fill-color);\n",
              "    }\n",
              "  }\n",
              "</style>\n",
              "\n",
              "      <script>\n",
              "        async function quickchart(key) {\n",
              "          const quickchartButtonEl =\n",
              "            document.querySelector('#' + key + ' button');\n",
              "          quickchartButtonEl.disabled = true;  // To prevent multiple clicks.\n",
              "          quickchartButtonEl.classList.add('colab-df-spinner');\n",
              "          try {\n",
              "            const charts = await google.colab.kernel.invokeFunction(\n",
              "                'suggestCharts', [key], {});\n",
              "          } catch (error) {\n",
              "            console.error('Error during call to suggestCharts:', error);\n",
              "          }\n",
              "          quickchartButtonEl.classList.remove('colab-df-spinner');\n",
              "          quickchartButtonEl.classList.add('colab-df-quickchart-complete');\n",
              "        }\n",
              "        (() => {\n",
              "          let quickchartButtonEl =\n",
              "            document.querySelector('#df-13d2a929-caab-4b1c-9350-0f8df97ad812 button');\n",
              "          quickchartButtonEl.style.display =\n",
              "            google.colab.kernel.accessAllowed ? 'block' : 'none';\n",
              "        })();\n",
              "      </script>\n",
              "    </div>\n",
              "\n",
              "    </div>\n",
              "  </div>\n"
            ],
            "application/vnd.google.colaboratory.intrinsic+json": {
              "type": "dataframe",
              "variable_name": "combined_df",
              "summary": "{\n  \"name\": \"combined_df\",\n  \"rows\": 176,\n  \"fields\": [\n    {\n      \"column\": \"lon\",\n      \"properties\": {\n        \"dtype\": \"number\",\n        \"std\": 0.23238322680390835,\n        \"min\": -81.869312,\n        \"max\": -80.570172,\n        \"num_unique_values\": 175,\n        \"samples\": [\n          -81.869312,\n          -81.255839,\n          -80.89435\n        ],\n        \"semantic_type\": \"\",\n        \"description\": \"\"\n      }\n    },\n    {\n      \"column\": \"lat\",\n      \"properties\": {\n        \"dtype\": \"number\",\n        \"std\": 0.11696497677118181,\n        \"min\": 24.563227,\n        \"max\": 24.99982,\n        \"num_unique_values\": 174,\n        \"samples\": [\n          24.567617,\n          24.662939,\n          24.97322\n        ],\n        \"semantic_type\": \"\",\n        \"description\": \"\"\n      }\n    },\n    {\n      \"column\": \"time\",\n      \"properties\": {\n        \"dtype\": \"date\",\n        \"min\": \"2005-04-06 13:54:00\",\n        \"max\": \"2025-04-26 23:53:00\",\n        \"num_unique_values\": 176,\n        \"samples\": [\n          \"2006-10-06 14:56:00\",\n          \"2007-09-27 11:23:00\",\n          \"2005-04-18 16:44:00\"\n        ],\n        \"semantic_type\": \"\",\n        \"description\": \"\"\n      }\n    },\n    {\n      \"column\": \"year\",\n      \"properties\": {\n        \"dtype\": \"int32\",\n        \"num_unique_values\": 8,\n        \"samples\": [\n          2005,\n          2024,\n          2006\n        ],\n        \"semantic_type\": \"\",\n        \"description\": \"\"\n      }\n    }\n  ]\n}"
            }
          },
          "metadata": {},
          "execution_count": 11
        }
      ]
    },
    {
      "cell_type": "code",
      "source": [
        "combined_df.shape"
      ],
      "metadata": {
        "colab": {
          "base_uri": "https://localhost:8080/"
        },
        "id": "T6B8NcdWbHuk",
        "outputId": "380a3c3a-e38b-45d7-9b5f-954cdcee3dfe"
      },
      "execution_count": 12,
      "outputs": [
        {
          "output_type": "execute_result",
          "data": {
            "text/plain": [
              "(176, 4)"
            ]
          },
          "metadata": {},
          "execution_count": 12
        }
      ]
    },
    {
      "cell_type": "markdown",
      "source": [
        "# Bringing Environmental data"
      ],
      "metadata": {
        "id": "bTEnjaRkbyky"
      }
    },
    {
      "cell_type": "code",
      "source": [
        "!pip install xarray netCDF4\n"
      ],
      "metadata": {
        "colab": {
          "base_uri": "https://localhost:8080/"
        },
        "id": "2XrgjZaDbxoq",
        "outputId": "71190bf9-8e04-4597-cecb-b31211899555"
      },
      "execution_count": 13,
      "outputs": [
        {
          "output_type": "stream",
          "name": "stdout",
          "text": [
            "Requirement already satisfied: xarray in /usr/local/lib/python3.11/dist-packages (2025.3.1)\n",
            "Collecting netCDF4\n",
            "  Downloading netCDF4-1.7.2-cp311-cp311-manylinux_2_17_x86_64.manylinux2014_x86_64.whl.metadata (1.8 kB)\n",
            "Requirement already satisfied: numpy>=1.24 in /usr/local/lib/python3.11/dist-packages (from xarray) (2.0.2)\n",
            "Requirement already satisfied: packaging>=23.2 in /usr/local/lib/python3.11/dist-packages (from xarray) (24.2)\n",
            "Requirement already satisfied: pandas>=2.1 in /usr/local/lib/python3.11/dist-packages (from xarray) (2.2.2)\n",
            "Collecting cftime (from netCDF4)\n",
            "  Downloading cftime-1.6.4.post1-cp311-cp311-manylinux_2_17_x86_64.manylinux2014_x86_64.whl.metadata (8.7 kB)\n",
            "Requirement already satisfied: certifi in /usr/local/lib/python3.11/dist-packages (from netCDF4) (2025.6.15)\n",
            "Requirement already satisfied: python-dateutil>=2.8.2 in /usr/local/lib/python3.11/dist-packages (from pandas>=2.1->xarray) (2.9.0.post0)\n",
            "Requirement already satisfied: pytz>=2020.1 in /usr/local/lib/python3.11/dist-packages (from pandas>=2.1->xarray) (2025.2)\n",
            "Requirement already satisfied: tzdata>=2022.7 in /usr/local/lib/python3.11/dist-packages (from pandas>=2.1->xarray) (2025.2)\n",
            "Requirement already satisfied: six>=1.5 in /usr/local/lib/python3.11/dist-packages (from python-dateutil>=2.8.2->pandas>=2.1->xarray) (1.17.0)\n",
            "Downloading netCDF4-1.7.2-cp311-cp311-manylinux_2_17_x86_64.manylinux2014_x86_64.whl (9.3 MB)\n",
            "\u001b[2K   \u001b[90m━━━━━━━━━━━━━━━━━━━━━━━━━━━━━━━━━━━━━━━━\u001b[0m \u001b[32m9.3/9.3 MB\u001b[0m \u001b[31m71.2 MB/s\u001b[0m eta \u001b[36m0:00:00\u001b[0m\n",
            "\u001b[?25hDownloading cftime-1.6.4.post1-cp311-cp311-manylinux_2_17_x86_64.manylinux2014_x86_64.whl (1.4 MB)\n",
            "\u001b[2K   \u001b[90m━━━━━━━━━━━━━━━━━━━━━━━━━━━━━━━━━━━━━━━━\u001b[0m \u001b[32m1.4/1.4 MB\u001b[0m \u001b[31m62.0 MB/s\u001b[0m eta \u001b[36m0:00:00\u001b[0m\n",
            "\u001b[?25hInstalling collected packages: cftime, netCDF4\n",
            "Successfully installed cftime-1.6.4.post1 netCDF4-1.7.2\n"
          ]
        }
      ]
    },
    {
      "cell_type": "code",
      "source": [
        "import xarray as xr\n",
        "import pandas as pd\n",
        "import numpy as np\n",
        "from tqdm import tqdm\n",
        "\n",
        "salinity_file = f'{project_dir}/cmems_salinity_44d2_bc4b_70b2_U1749495233099.nc'\n",
        "ds = xr.open_dataset(salinity_file)\n",
        "\n",
        "sal_lats = ds['latitude'].values\n",
        "sal_lons = ds['longitude'].values\n",
        "sal_times = pd.to_datetime(ds['time'].values)\n",
        "\n",
        "def get_nearest_salinity_spatial(row, ds, lons, lats, varname='so'):\n",
        "    lon_idx = np.abs(lons - row['lon']).argmin()\n",
        "    lat_idx = np.abs(lats - row['lat']).argmin()\n",
        "    try:\n",
        "        value = ds[varname].isel(time=0, latitude=lat_idx, longitude=lon_idx).values.item()\n",
        "\n",
        "        if hasattr(value, 'mask') and value.mask:\n",
        "            return np.nan\n",
        "        if np.isnan(value):\n",
        "            return np.nan\n",
        "        return value\n",
        "    except Exception as e:\n",
        "        return np.nan\n",
        "\n",
        "tqdm.pandas()\n",
        "combined_df['salinity'] = combined_df.progress_apply(\n",
        "    lambda row: get_nearest_salinity_spatial(row, ds, sal_lons, sal_lats, varname='so'),\n",
        "    axis=1\n",
        ")\n",
        "\n",
        "\n",
        "print(\"\\n\")\n",
        "print(combined_df[['lon', 'lat', 'time', 'salinity']].head())\n",
        "print(combined_df['salinity'].describe())\n"
      ],
      "metadata": {
        "colab": {
          "base_uri": "https://localhost:8080/"
        },
        "id": "zYYHAg2IeeLY",
        "outputId": "d982e2bc-f299-45ab-bd61-e119927f4747"
      },
      "execution_count": 20,
      "outputs": [
        {
          "output_type": "stream",
          "name": "stderr",
          "text": [
            "100%|██████████| 176/176 [00:00<00:00, 950.96it/s]"
          ]
        },
        {
          "output_type": "stream",
          "name": "stdout",
          "text": [
            "\n",
            "\n",
            "         lon        lat                time   salinity\n",
            "0 -80.649250  24.996280 2006-10-05 12:50:00  37.025467\n",
            "1 -80.834916  24.979066 2006-10-06 12:01:00  36.981316\n",
            "2 -80.883433  24.998600 2005-04-19 12:46:00  36.918724\n",
            "3 -80.832800  24.968517 2006-05-03 12:21:00  36.981316\n",
            "4 -80.849766  24.987616 2005-04-19 13:20:00  36.981316\n",
            "count    170.000000\n",
            "mean      36.913815\n",
            "std        0.152664\n",
            "min       36.367954\n",
            "25%       36.918724\n",
            "50%       36.981316\n",
            "75%       36.981316\n",
            "max       37.025467\n",
            "Name: salinity, dtype: float64\n"
          ]
        },
        {
          "output_type": "stream",
          "name": "stderr",
          "text": [
            "\n"
          ]
        }
      ]
    },
    {
      "cell_type": "markdown",
      "source": [
        "Adding Temparature"
      ],
      "metadata": {
        "id": "oGS5bugzYLUw"
      }
    },
    {
      "cell_type": "code",
      "source": [
        "temp_file = f'{project_dir}/woa23_decav_t00_04.nc'\n",
        "ds_temp = xr.open_dataset(temp_file, decode_times=False)\n",
        "\n",
        "print(ds_temp)\n",
        "print(ds_temp.data_vars)"
      ],
      "metadata": {
        "colab": {
          "base_uri": "https://localhost:8080/"
        },
        "id": "yi8TAaUXUjp6",
        "outputId": "afaa87ac-4b52-418a-d7dc-74fd52b02fa5"
      },
      "execution_count": 22,
      "outputs": [
        {
          "output_type": "stream",
          "name": "stdout",
          "text": [
            "<xarray.Dataset> Size: 5GB\n",
            "Dimensions:             (lat: 720, nbounds: 2, lon: 1440, depth: 102, time: 1)\n",
            "Coordinates:\n",
            "  * lat                 (lat) float32 3kB -89.88 -89.62 -89.38 ... 89.62 89.88\n",
            "  * lon                 (lon) float32 6kB -179.9 -179.6 -179.4 ... 179.6 179.9\n",
            "  * depth               (depth) float32 408B 0.0 5.0 10.0 ... 5.4e+03 5.5e+03\n",
            "  * time                (time) float32 4B 4.614e+03\n",
            "Dimensions without coordinates: nbounds\n",
            "Data variables: (12/14)\n",
            "    crs                 int32 4B ...\n",
            "    lat_bnds            (lat, nbounds) float32 6kB ...\n",
            "    lon_bnds            (lon, nbounds) float32 12kB ...\n",
            "    depth_bnds          (depth, nbounds) float32 816B ...\n",
            "    climatology_bounds  (time, nbounds) float32 8B ...\n",
            "    t_an                (time, depth, lat, lon) float32 423MB ...\n",
            "    ...                  ...\n",
            "    t_sd                (time, depth, lat, lon) float32 423MB ...\n",
            "    t_se                (time, depth, lat, lon) float32 423MB ...\n",
            "    t_oa                (time, depth, lat, lon) float32 423MB ...\n",
            "    t_gp                (time, depth, lat, lon) float64 846MB ...\n",
            "    t_sdo               (time, depth, lat, lon) float32 423MB ...\n",
            "    t_sea               (time, depth, lat, lon) float32 423MB ...\n",
            "Attributes: (12/45)\n",
            "    Conventions:                     CF-1.6\n",
            "    title:                           World Ocean Atlas 2023 : sea_water_tempe...\n",
            "    summary:                         Climatological mean temperature for the ...\n",
            "    references:                      Locarnini, R.A., A.V. Mishonov, O.K. Bar...\n",
            "    institution:                     NOAA National Centers for Environmental ...\n",
            "    comment:                         Global Climatology as part of the World ...\n",
            "    ...                              ...\n",
            "    ncei_template_version:           NCEI_NetCDF_Grid_Template_v1.0\n",
            "    license:                         These data are openly available to the p...\n",
            "    Metadata_Conventions:            Unidata Dataset Discovery v1.0\n",
            "    metadata_link:                   https://www.ncei.noaa.gov/products/world...\n",
            "    date_created:                    2024-01-28 \n",
            "    date_modified:                   2024-01-28 \n",
            "Data variables:\n",
            "    crs                 int32 4B ...\n",
            "    lat_bnds            (lat, nbounds) float32 6kB ...\n",
            "    lon_bnds            (lon, nbounds) float32 12kB ...\n",
            "    depth_bnds          (depth, nbounds) float32 816B ...\n",
            "    climatology_bounds  (time, nbounds) float32 8B ...\n",
            "    t_an                (time, depth, lat, lon) float32 423MB ...\n",
            "    t_mn                (time, depth, lat, lon) float32 423MB ...\n",
            "    t_dd                (time, depth, lat, lon) float64 846MB ...\n",
            "    t_sd                (time, depth, lat, lon) float32 423MB ...\n",
            "    t_se                (time, depth, lat, lon) float32 423MB ...\n",
            "    t_oa                (time, depth, lat, lon) float32 423MB ...\n",
            "    t_gp                (time, depth, lat, lon) float64 846MB ...\n",
            "    t_sdo               (time, depth, lat, lon) float32 423MB ...\n",
            "    t_sea               (time, depth, lat, lon) float32 423MB ...\n"
          ]
        }
      ]
    },
    {
      "cell_type": "code",
      "source": [
        "temp_var = 't_an'  # annual mean temperature\n",
        "lat_name = 'lat'\n",
        "lon_name = 'lon'\n",
        "\n",
        "temp_lats = ds_temp[lat_name].values\n",
        "temp_lons = ds_temp[lon_name].values\n",
        "\n",
        "\n",
        "ds_temp_surf = ds_temp[temp_var].isel(time=0, depth=0)\n",
        "\n"
      ],
      "metadata": {
        "id": "sX8HwRabVA0t"
      },
      "execution_count": 23,
      "outputs": []
    },
    {
      "cell_type": "code",
      "source": [
        "def get_nearest_temp_spatial(row, temp_grid, lons, lats):\n",
        "    lon_idx = np.abs(lons - row['lon']).argmin()\n",
        "    lat_idx = np.abs(lats - row['lat']).argmin()\n",
        "    try:\n",
        "        value = temp_grid[lat_idx, lon_idx].values.item()\n",
        "        if hasattr(value, 'mask') and value.mask:\n",
        "            return np.nan\n",
        "        if np.isnan(value):\n",
        "            return np.nan\n",
        "        return value\n",
        "    except Exception:\n",
        "        return np.nan\n"
      ],
      "metadata": {
        "id": "abvW4O5QYWs0"
      },
      "execution_count": 24,
      "outputs": []
    },
    {
      "cell_type": "code",
      "source": [
        "combined_df['temperature'] = combined_df.progress_apply(\n",
        "    lambda row: get_nearest_temp_spatial(row, ds_temp_surf, temp_lons, temp_lats),\n",
        "    axis=1\n",
        ")\n",
        "print(\"\\n\")\n",
        "\n",
        "print(combined_df[['lon', 'lat', 'time', 'salinity', 'temperature']].head())\n",
        "print(combined_df['temperature'].describe())\n"
      ],
      "metadata": {
        "colab": {
          "base_uri": "https://localhost:8080/"
        },
        "id": "UXL0bwKsYagX",
        "outputId": "63225e79-e5af-4d45-a036-a93cd4a634c2"
      },
      "execution_count": 26,
      "outputs": [
        {
          "output_type": "stream",
          "name": "stderr",
          "text": [
            "100%|██████████| 176/176 [00:00<00:00, 1284.81it/s]"
          ]
        },
        {
          "output_type": "stream",
          "name": "stdout",
          "text": [
            "\n",
            "\n",
            "         lon        lat                time   salinity  temperature\n",
            "0 -80.649250  24.996280 2006-10-05 12:50:00  37.025467    26.958191\n",
            "1 -80.834916  24.979066 2006-10-06 12:01:00  36.981316    26.857309\n",
            "2 -80.883433  24.998600 2005-04-19 12:46:00  36.918724    26.857309\n",
            "3 -80.832800  24.968517 2006-05-03 12:21:00  36.981316    26.857309\n",
            "4 -80.849766  24.987616 2005-04-19 13:20:00  36.981316    26.857309\n",
            "count    176.000000\n",
            "mean      26.836169\n",
            "std        0.107935\n",
            "min       26.339600\n",
            "25%       26.857309\n",
            "50%       26.857309\n",
            "75%       26.857309\n",
            "max       26.958191\n",
            "Name: temperature, dtype: float64\n"
          ]
        },
        {
          "output_type": "stream",
          "name": "stderr",
          "text": [
            "\n"
          ]
        }
      ]
    },
    {
      "cell_type": "markdown",
      "source": [
        "Distribution of Salinity and Temperature"
      ],
      "metadata": {
        "id": "dGCWjvhNalJ2"
      }
    },
    {
      "cell_type": "code",
      "source": [
        "import matplotlib.pyplot as plt\n",
        "\n",
        "plt.figure(figsize=(12,5))\n",
        "\n",
        "plt.subplot(1,2,1)\n",
        "combined_df['salinity'].hist(bins=20, edgecolor='k')\n",
        "plt.title('Salinity Distribution')\n",
        "plt.xlabel('Salinity (psu)')\n",
        "plt.ylabel('Count')\n",
        "\n",
        "plt.subplot(1,2,2)\n",
        "combined_df['temperature'].hist(bins=20, edgecolor='k', color='orange')\n",
        "plt.title('Temperature Distribution')\n",
        "plt.xlabel('Temperature (°C)')\n",
        "plt.ylabel('Count')\n",
        "\n",
        "plt.tight_layout()\n",
        "plt.show()\n"
      ],
      "metadata": {
        "colab": {
          "base_uri": "https://localhost:8080/",
          "height": 507
        },
        "id": "SpPXRH-iZB7o",
        "outputId": "a6ea4cde-9f6a-4913-b3d3-c2c03e2a4de7"
      },
      "execution_count": 27,
      "outputs": [
        {
          "output_type": "display_data",
          "data": {
            "text/plain": [
              "<Figure size 1200x500 with 2 Axes>"
            ],
            "image/png": "[encoded data removed]"
          },
          "metadata": {}
        }
      ]
    },
    {
      "cell_type": "markdown",
      "source": [
        "Salinity vs. Temperature (Scatter Plot)"
      ],
      "metadata": {
        "id": "HKPzBWFna009"
      }
    },
    {
      "cell_type": "code",
      "source": [
        "plt.figure(figsize=(6,6))\n",
        "plt.scatter(combined_df['salinity'], combined_df['temperature'], alpha=0.7)\n",
        "plt.xlabel('Salinity (psu)')\n",
        "plt.ylabel('Temperature (°C)')\n",
        "plt.title('Salinity vs. Temperature')\n",
        "plt.grid(True)\n",
        "plt.show()\n"
      ],
      "metadata": {
        "colab": {
          "base_uri": "https://localhost:8080/",
          "height": 564
        },
        "id": "ffVi01cCaxR9",
        "outputId": "84c13b16-4870-4106-a230-37ac8c07ebb9"
      },
      "execution_count": 28,
      "outputs": [
        {
          "output_type": "display_data",
          "data": {
            "text/plain": [
              "<Figure size 600x600 with 1 Axes>"
            ],
            "image/png": "[encoded data removed]"
          },
          "metadata": {}
        }
      ]
    },
    {
      "cell_type": "markdown",
      "source": [
        "Temporal Trends"
      ],
      "metadata": {
        "id": "R7FCFOKBbAOO"
      }
    },
    {
      "cell_type": "code",
      "source": [
        "\n",
        "if 'year' not in combined_df:\n",
        "    combined_df['year'] = pd.to_datetime(combined_df['time']).dt.year\n",
        "\n",
        "plt.figure(figsize=(10,5))\n",
        "plt.plot(combined_df.groupby('year')['temperature'].mean(), label='Mean Temperature', marker='o')\n",
        "plt.plot(combined_df.groupby('year')['salinity'].mean(), label='Mean Salinity', marker='s')\n",
        "plt.legend()\n",
        "plt.xlabel('Year')\n",
        "plt.ylabel('Mean Value')\n",
        "plt.title('Temporal Trends: Mean Temperature & Salinity')\n",
        "plt.grid(True)\n",
        "plt.show()\n"
      ],
      "metadata": {
        "colab": {
          "base_uri": "https://localhost:8080/",
          "height": 487
        },
        "id": "xoeGkHTTa5Qi",
        "outputId": "846ca67e-a2c6-4f61-91b0-62708afcc4e9"
      },
      "execution_count": 29,
      "outputs": [
        {
          "output_type": "display_data",
          "data": {
            "text/plain": [
              "<Figure size 1000x500 with 1 Axes>"
            ],
            "image/png": "[encoded data removed]"
          },
          "metadata": {}
        }
      ]
    },
    {
      "cell_type": "markdown",
      "source": [
        " Correlation Coefficient"
      ],
      "metadata": {
        "id": "d57eDJFxbHio"
      }
    },
    {
      "cell_type": "code",
      "source": [
        "print(\"Correlation between salinity and temperature:\")\n",
        "print(combined_df[['salinity', 'temperature']].corr())\n"
      ],
      "metadata": {
        "colab": {
          "base_uri": "https://localhost:8080/"
        },
        "id": "H8v1-A79bHEJ",
        "outputId": "388c50ab-dce4-4d69-9738-c5af0aff9e25"
      },
      "execution_count": 30,
      "outputs": [
        {
          "output_type": "stream",
          "name": "stdout",
          "text": [
            "Correlation between salinity and temperature:\n",
            "             salinity  temperature\n",
            "salinity      1.00000      0.92986\n",
            "temperature   0.92986      1.00000\n"
          ]
        }
      ]
    },
    {
      "cell_type": "markdown",
      "source": [
        "# SDM One Class SVM"
      ],
      "metadata": {
        "id": "MF_ErI-3eUSh"
      }
    },
    {
      "cell_type": "code",
      "source": [
        "from sklearn.model_selection import train_test_split\n",
        "from sklearn.preprocessing import StandardScaler\n",
        "from sklearn import svm"
      ],
      "metadata": {
        "id": "cF6RbrI7bMu1"
      },
      "execution_count": 31,
      "outputs": []
    },
    {
      "cell_type": "code",
      "source": [
        "features = ['salinity', 'temperature']\n",
        "df_ml = combined_df.dropna(subset=features)\n",
        "\n",
        "X = df_ml[features].values\n",
        "\n",
        "\n",
        "X_train, X_test = train_test_split(X, test_size=0.2, random_state=42)"
      ],
      "metadata": {
        "id": "s6OBMywreOQd"
      },
      "execution_count": 32,
      "outputs": []
    },
    {
      "cell_type": "code",
      "source": [
        "scaler = StandardScaler()\n",
        "X_train_scaled = scaler.fit_transform(X_train)\n",
        "X_test_scaled = scaler.transform(X_test)\n",
        "model = svm.OneClassSVM(nu=0.1, kernel='rbf', gamma=0.5)\n",
        "model.fit(X_train_scaled)\n",
        "df_ml['score'] = model.decision_function(scaler.transform(X))\n",
        "df_ml['anomaly'] = model.predict(scaler.transform(X))  # +1 normal, -1 outlier\n",
        "\n",
        "print(df_ml[['salinity', 'temperature', 'score', 'anomaly']].head())\n",
        "print(df_ml['anomaly'].value_counts())\n"
      ],
      "metadata": {
        "colab": {
          "base_uri": "https://localhost:8080/"
        },
        "id": "fBY9oJM2eeT3",
        "outputId": "20a146e0-7247-4417-e669-1dcc700373bb"
      },
      "execution_count": 33,
      "outputs": [
        {
          "output_type": "stream",
          "name": "stdout",
          "text": [
            "    salinity  temperature     score  anomaly\n",
            "0  37.025467    26.958191  0.000176        1\n",
            "1  36.981316    26.857309  0.000543        1\n",
            "2  36.918724    26.857309  0.185325        1\n",
            "3  36.981316    26.857309  0.000543        1\n",
            "4  36.981316    26.857309  0.000543        1\n",
            "anomaly\n",
            " 1    147\n",
            "-1     23\n",
            "Name: count, dtype: int64\n"
          ]
        },
        {
          "output_type": "stream",
          "name": "stderr",
          "text": [
            "/tmp/ipython-input-33-3519765360.py:6: SettingWithCopyWarning: \n",
            "A value is trying to be set on a copy of a slice from a DataFrame.\n",
            "Try using .loc[row_indexer,col_indexer] = value instead\n",
            "\n",
            "See the caveats in the documentation: https://pandas.pydata.org/pandas-docs/stable/user_guide/indexing.html#returning-a-view-versus-a-copy\n",
            "  df_ml['score'] = model.decision_function(scaler.transform(X))\n",
            "/tmp/ipython-input-33-3519765360.py:7: SettingWithCopyWarning: \n",
            "A value is trying to be set on a copy of a slice from a DataFrame.\n",
            "Try using .loc[row_indexer,col_indexer] = value instead\n",
            "\n",
            "See the caveats in the documentation: https://pandas.pydata.org/pandas-docs/stable/user_guide/indexing.html#returning-a-view-versus-a-copy\n",
            "  df_ml['anomaly'] = model.predict(scaler.transform(X))  # +1 normal, -1 outlier\n"
          ]
        }
      ]
    },
    {
      "cell_type": "markdown",
      "source": [
        "# Plot in environmental space"
      ],
      "metadata": {
        "id": "JYO1QhtYe8Yz"
      }
    },
    {
      "cell_type": "code",
      "source": [
        "plt.figure(figsize=(8,6))\n",
        "plt.scatter(df_ml['salinity'], df_ml['temperature'], c=df_ml['anomaly'], cmap='coolwarm', edgecolor='k', s=40)\n",
        "plt.xlabel('Salinity')\n",
        "plt.ylabel('Temperature')\n",
        "plt.title('SVM Inliers (+1) vs Outliers (-1)')\n",
        "plt.grid(True)\n",
        "plt.colorbar(label='Anomaly')\n",
        "plt.show()\n"
      ],
      "metadata": {
        "colab": {
          "base_uri": "https://localhost:8080/",
          "height": 564
        },
        "id": "svui_XhYevlE",
        "outputId": "1fba63e2-d8e5-439c-8630-d65b76639bec"
      },
      "execution_count": 34,
      "outputs": [
        {
          "output_type": "display_data",
          "data": {
            "text/plain": [
              "<Figure size 800x600 with 2 Axes>"
            ],
            "image/png": "[encoded data removed]"
          },
          "metadata": {}
        }
      ]
    },
    {
      "cell_type": "markdown",
      "source": [
        "# Map anomaly scores"
      ],
      "metadata": {
        "id": "Lsf9NNZzfehF"
      }
    },
    {
      "cell_type": "code",
      "source": [
        "plt.figure(figsize=(8,6))\n",
        "plt.scatter(df_ml['lon'], df_ml['lat'], c=df_ml['score'], cmap='viridis', s=40)\n",
        "plt.colorbar(label='Habitat Suitability (SVM score)')\n",
        "plt.xlabel('Longitude')\n",
        "plt.ylabel('Latitude')\n",
        "plt.title('Seagrass Occurrences: SVM Suitability')\n",
        "plt.show()\n"
      ],
      "metadata": {
        "colab": {
          "base_uri": "https://localhost:8080/",
          "height": 564
        },
        "id": "fW0mHmgtfdzS",
        "outputId": "1ab0a129-80a2-404b-fb80-65e7a732ee60"
      },
      "execution_count": 36,
      "outputs": [
        {
          "output_type": "display_data",
          "data": {
            "text/plain": [
              "<Figure size 800x600 with 2 Axes>"
            ],
            "image/png": "[encoded data removed]"
          },
          "metadata": {}
        }
      ]
    },
    {
      "cell_type": "markdown",
      "source": [
        "# Yearly anomaly counts"
      ],
      "metadata": {
        "id": "rBqOFLXSfoU_"
      }
    },
    {
      "cell_type": "code",
      "source": [
        "if 'year' not in df_ml:\n",
        "    df_ml['year'] = pd.to_datetime(df_ml['time']).dt.year\n",
        "\n",
        "anomaly_by_year = df_ml.groupby('year')['anomaly'].value_counts().unstack().fillna(0)\n",
        "print(anomaly_by_year)\n",
        "anomaly_by_year.plot(kind='bar', stacked=True, figsize=(10,6))\n",
        "plt.ylabel('Number of Occurrences')\n",
        "plt.title('Number of Inlier vs Outlier Occurrences by Year')\n",
        "plt.show()\n"
      ],
      "metadata": {
        "colab": {
          "base_uri": "https://localhost:8080/",
          "height": 764
        },
        "id": "MC85A-Oke4ke",
        "outputId": "7bc29cb1-9c64-4037-8363-7c2006ec13cb"
      },
      "execution_count": 35,
      "outputs": [
        {
          "output_type": "stream",
          "name": "stdout",
          "text": [
            "anomaly   -1     1\n",
            "year              \n",
            "2005     0.0  50.0\n",
            "2006     0.0  48.0\n",
            "2007     0.0  47.0\n",
            "2021     1.0   0.0\n",
            "2022     8.0   0.0\n",
            "2023     9.0   1.0\n",
            "2024     4.0   1.0\n",
            "2025     1.0   0.0\n"
          ]
        },
        {
          "output_type": "display_data",
          "data": {
            "text/plain": [
              "<Figure size 1000x600 with 1 Axes>"
            ],
            "image/png": "[encoded data removed]"
          },
          "metadata": {}
        }
      ]
    },
    {
      "cell_type": "markdown",
      "source": [
        "Spatial and environmental plots show which locations and conditions are flagged as outliers, possibly indicating abnormal events (e.g., die-offs, blooms, extreme conditions).\n",
        "\n",
        "Yearly anomaly plot reveals that certain years (e.g., 2021, 2022, 2023) have higher proportions of anomalies—potentially corresponding to environmental stress events.\n",
        "\n",
        "Anomaly points can be further investigated against known disturbances (hurricanes, algal blooms, etc.) to provide ecological insight and support management.\n",
        "\n"
      ],
      "metadata": {
        "id": "bIBC8_U5i1Jy"
      }
    },
    {
      "cell_type": "markdown",
      "source": [
        "Results:\n",
        "\n",
        "Most points (~86%) are classified as “normal” based on environmental conditions.\n",
        "\n",
        "A subset of points (23 out of 170) are flagged as anomalies (outliers) by the SVM.\n",
        "\n"
      ],
      "metadata": {
        "id": "81slsY_3insJ"
      }
    }
  ]
}